{
 "cells": [
  {
   "cell_type": "markdown",
   "metadata": {},
   "source": [
    "## Linked List"
   ]
  },
  {
   "cell_type": "code",
   "execution_count": 2,
   "metadata": {},
   "outputs": [],
   "source": [
    "# Node class\n",
    "class Node:\n",
    "    \n",
    "    def __init__(self, data):\n",
    "        self.data = data #assign data\n",
    "        self.next = None #Initialize next as null\n",
    "        \n",
    "#Linked List class\n",
    "class LinkedList:\n",
    "    \n",
    "    def __init__(self):\n",
    "        self.head = None\n",
    "        \n",
    "#Code execution\n",
    "\n",
    "if __name__ == '__main__':\n",
    "    \n",
    "    llist = LinkedList()\n",
    "    llist.head = Node(1)\n",
    "    second = Node(2)\n",
    "    third = Node(3)\n",
    "    \n",
    "    #linking first head node to second\n",
    "    \n",
    "    llist.head.next = second\n",
    "    second.next = third"
   ]
  },
  {
   "cell_type": "markdown",
   "metadata": {},
   "source": [
    "## Linked List traversal"
   ]
  },
  {
   "cell_type": "code",
   "execution_count": 3,
   "metadata": {},
   "outputs": [
    {
     "name": "stdout",
     "output_type": "stream",
     "text": [
      "1\n",
      "2\n",
      "3\n"
     ]
    }
   ],
   "source": [
    "class Node:\n",
    "    \n",
    "    def __init__(self, data):\n",
    "        self.data = data\n",
    "        self.next = None\n",
    "        \n",
    "class LinkedList:\n",
    "    \n",
    "    def __init__(self):\n",
    "        self.head = None\n",
    "        \n",
    "    #printing contents of linked list from head\n",
    "    \n",
    "    def printList(self):\n",
    "        temp = self.head\n",
    "        while (temp):\n",
    "            print(temp.data)\n",
    "            temp = temp.next\n",
    "            \n",
    "#code execution\n",
    "\n",
    "if __name__ == '__main__':\n",
    "    \n",
    "    #Start with empty list\n",
    "    llist = LinkedList()\n",
    "    \n",
    "    llist.head = Node(1)\n",
    "    second = Node(2)\n",
    "    third = Node(3)\n",
    "    \n",
    "    #linking the nodes\n",
    "    llist.head.next = second;\n",
    "    second.next = third;\n",
    "    \n",
    "    llist.printList()\n",
    "    \n",
    "    "
   ]
  },
  {
   "cell_type": "markdown",
   "metadata": {},
   "source": [
    "#### Practice _ Implementing a linked list"
   ]
  },
  {
   "cell_type": "code",
   "execution_count": 4,
   "metadata": {},
   "outputs": [],
   "source": [
    "class Node:\n",
    "    \n",
    "    def __init__(self,data):\n",
    "        self.data = data\n",
    "        self.next = None\n",
    "        \n",
    "class LinkedList:\n",
    "    \n",
    "    def __init__(self):\n",
    "        self.head = None\n",
    "        \n",
    "#code execution\n",
    "\n",
    "if __name__ == '__main__':\n",
    "    llist = LinkedList()\n",
    "    \n",
    "    llist.head = Node(1)\n",
    "    second = Node(2)\n",
    "    third = Node(3)\n",
    "    \n",
    "    #All nodes have been initialized and now its time to link them\n",
    "    \n",
    "    llist.head.next = second;\n",
    "    second.next = third;"
   ]
  },
  {
   "cell_type": "markdown",
   "metadata": {},
   "source": [
    "### Adding a node to the start of the Linked List"
   ]
  },
  {
   "cell_type": "code",
   "execution_count": null,
   "metadata": {},
   "outputs": [],
   "source": [
    "class Node:\n",
    "    \n",
    "    def __init__(self,data):\n",
    "        self.data = data\n",
    "        self.next = None\n",
    "        \n",
    "class LinkedList:\n",
    "    \n",
    "    def __init__(self):\n",
    "        self.head = None\n",
    "        \n",
    "    def push(self, new_data):\n",
    "        \n",
    "        #allocating the node and putting in the data\n",
    "        new_node = Node(new_data)\n",
    "        \n",
    "        #attaching new node to head of llist\n",
    "        new_node.next = self.head\n",
    "        \n",
    "        #making the head of the list as new node\n",
    "        self.head = new_node\n",
    "                       "
   ]
  },
  {
   "cell_type": "markdown",
   "metadata": {},
   "source": [
    "### Adding a node after a give node"
   ]
  },
  {
   "cell_type": "code",
   "execution_count": 5,
   "metadata": {},
   "outputs": [],
   "source": [
    "class Node:\n",
    "    \n",
    "    def __init__(self,data):\n",
    "        self.data=data\n",
    "        self.next = None\n",
    "        \n",
    "class LinkedList:\n",
    "    \n",
    "    def __init__(self):\n",
    "        self.head= None\n",
    "        \n",
    "    def insertAfter(self, prev_node, new_node):\n",
    "        \n",
    "        if prev_node is None:\n",
    "            print('Print correct hoes')\n",
    "            return\n",
    "        \n",
    "        new_node = Node(new_data)\n",
    "        new_node.next = prev_node.next\n",
    "        prev_node.next = new_node"
   ]
  },
  {
   "cell_type": "markdown",
   "metadata": {},
   "source": [
    "### Adding a node at the end of the Linked List"
   ]
  },
  {
   "cell_type": "code",
   "execution_count": 6,
   "metadata": {},
   "outputs": [],
   "source": [
    "class Node:\n",
    "    \n",
    "    def __init__(self,data):\n",
    "        self.data=data\n",
    "        self.next=None\n",
    "        \n",
    "class LinkedList:\n",
    "    \n",
    "    def __init__(self):\n",
    "        self.head=None\n",
    "        \n",
    "    def append(self, new_data):\n",
    "        new_node = Node(new_data)\n",
    "        \n",
    "        if self.head is None:\n",
    "            self.head = new_node\n",
    "            return\n",
    "        \n",
    "        last = self.head\n",
    "        while (last.next):\n",
    "            last = last.next\n",
    "            \n",
    "        last.next = new_node"
   ]
  },
  {
   "cell_type": "markdown",
   "metadata": {},
   "source": [
    "## Combining all methods into one single code"
   ]
  },
  {
   "cell_type": "code",
   "execution_count": 15,
   "metadata": {},
   "outputs": [],
   "source": [
    "class Node:\n",
    "    \n",
    "    def __init__(self,data):\n",
    "        self.data=data\n",
    "        self.next=None\n",
    "        \n",
    "class LinkedList():\n",
    "    \n",
    "    def __init__(self):\n",
    "        self.head=None\n",
    "        \n",
    "    def push(self,new_data):\n",
    "        \n",
    "        new_node= Node(new_data)\n",
    "        new_node.next= self.head\n",
    "        self.head = new_node\n",
    "        \n",
    "    def insertAfter(self, prev_node, new_data):\n",
    "                   \n",
    "        if prev_node is None:\n",
    "            print('Make it valid')\n",
    "            return\n",
    "        \n",
    "        new_node = Node(new_data)\n",
    "        new_node.next = prev_node.next\n",
    "        prev_node.next = new_node\n",
    "        \n",
    "    def append(self, new_data):\n",
    "        new_node = Node(new_data)\n",
    "        \n",
    "        if self.head is None:\n",
    "            self.head = new_node\n",
    "            return\n",
    "        last = self.head\n",
    "        while (last.next):\n",
    "            last = last.next\n",
    "            \n",
    "        last.next = new_node\n",
    "        \n",
    "    def printList(self):\n",
    "        temp = self.head\n",
    "        print(temp.data)\n",
    "        temp = temp.next\n",
    "        \n",
    "    #execution of the code\n",
    "    \n"
   ]
  },
  {
   "cell_type": "code",
   "execution_count": 16,
   "metadata": {},
   "outputs": [
    {
     "name": "stdout",
     "output_type": "stream",
     "text": [
      "1\n"
     ]
    }
   ],
   "source": [
    "if __name__=='__main__':\n",
    "    \n",
    "        \n",
    "    llist = LinkedList()\n",
    "        \n",
    "    llist.append(6)\n",
    "        \n",
    "        #pushing 7 in the beginning\n",
    "    llist.push(7);\n",
    "        \n",
    "        #pushing 1 in start\n",
    "    llist.push(1);\n",
    "        \n",
    "        #appending 4\n",
    "    llist.append(4)\n",
    "        \n",
    "        #inserting 8 right in the middle\n",
    "    llist.insertAfter(llist.head.next, 8)\n",
    "        \n",
    "        #printing the list\n",
    "    llist.printList()"
   ]
  },
  {
   "cell_type": "code",
   "execution_count": null,
   "metadata": {},
   "outputs": [],
   "source": []
  },
  {
   "cell_type": "code",
   "execution_count": null,
   "metadata": {},
   "outputs": [],
   "source": []
  }
 ],
 "metadata": {
  "kernelspec": {
   "display_name": "Python 3",
   "language": "python",
   "name": "python3"
  },
  "language_info": {
   "codemirror_mode": {
    "name": "ipython",
    "version": 3
   },
   "file_extension": ".py",
   "mimetype": "text/x-python",
   "name": "python",
   "nbconvert_exporter": "python",
   "pygments_lexer": "ipython3",
   "version": "3.8.5"
  }
 },
 "nbformat": 4,
 "nbformat_minor": 4
}
