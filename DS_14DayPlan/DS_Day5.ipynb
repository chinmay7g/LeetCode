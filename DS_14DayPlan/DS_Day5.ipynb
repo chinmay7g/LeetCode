{
 "cells": [
  {
   "cell_type": "markdown",
   "metadata": {},
   "source": [
    "# DAY 5"
   ]
  },
  {
   "cell_type": "markdown",
   "metadata": {},
   "source": [
    "### Valid Sudoku"
   ]
  },
  {
   "cell_type": "markdown",
   "metadata": {},
   "source": [
    "#### Q1. Determine if a 9 x 9 Sudoku board is valid."
   ]
  },
  {
   "cell_type": "code",
   "execution_count": null,
   "metadata": {},
   "outputs": [],
   "source": [
    "import collections\n",
    "def isValid(board):\n",
    "    \n",
    "    cols = collections.defaultdict(set)\n",
    "    rows = collections.defaultdict(set)\n",
    "    squares = collections.defaultdict(set)\n",
    "    \n",
    "    for r in range(9):\n",
    "        for c in range(9):\n",
    "            \n",
    "            \n",
    "        if board[r][c] == \".\":\n",
    "            \n",
    "            continue\n",
    "        \n",
    "        if (board[r][c] in rows[r] or\n",
    "           board[r][c] in cols[c] or\n",
    "           board[r][c] in squares[r//3, c//3]):\n",
    "            \n",
    "            return False\n",
    "    \n",
    "        cols[c].add(board[r][c])\n",
    "        rows[r].add(board[r][c])\n",
    "        squares[r//3, c//3].add(board[r][c])\n",
    "    return True"
   ]
  },
  {
   "cell_type": "code",
   "execution_count": null,
   "metadata": {},
   "outputs": [],
   "source": []
  },
  {
   "cell_type": "markdown",
   "metadata": {},
   "source": [
    "### Search a 2D matrix"
   ]
  },
  {
   "cell_type": "markdown",
   "metadata": {},
   "source": [
    "##### Q2. Given a 2D matrix, search for a value within the matrix of (mxn). Integers in each row are sorted from left to right.\n",
    "##### The first integer of each row is greater than the last integer of the previous row."
   ]
  },
  {
   "cell_type": "code",
   "execution_count": 1,
   "metadata": {},
   "outputs": [],
   "source": [
    "def search2D(matrix, target):\n",
    "    #first create dimensions of matrix\n",
    "    rows, cols = len(matrix), len(matrix[0])\n",
    "    \n",
    "    #create pointers to select which row exactly\n",
    "    top, bottom  = 0, rows-1\n",
    "    \n",
    "    #creating middle row like in binary search\n",
    "    row = (top + bottom)//2\n",
    "    \n",
    "    #searching along it\n",
    "    while top <= bottom:\n",
    "        if target > matrix[row][-1]: #meaning last element of middle row (matrix is sorted)\n",
    "            top = row + 1 #pointer must move down\n",
    "            \n",
    "        elif target < matrix[row][0]: #meaning first element of middle row\n",
    "            bottom = row - 1\n",
    "            \n",
    "        else:\n",
    "            break\n",
    "            \n",
    "    if not (top <= bottom):\n",
    "        \n",
    "        return False\n",
    "    \n",
    "    #continue with normal binary search in middle row\n",
    "    \n",
    "    #initiate pointers for middle row\n",
    "    \n",
    "    l, r = 0, cols-1\n",
    "    m = (l+r)//2\n",
    "    \n",
    "    while l <= r:\n",
    "        if target > matrix[row][m]:\n",
    "            l = m+1\n",
    "        elif target < matrix[row][m]:\n",
    "            r = m-1\n",
    "        else:\n",
    "            return True #meaning we are at the middle element that is the target\n",
    "    \n",
    "    return False #unable to find the target at all"
   ]
  },
  {
   "cell_type": "code",
   "execution_count": null,
   "metadata": {},
   "outputs": [],
   "source": []
  },
  {
   "cell_type": "code",
   "execution_count": null,
   "metadata": {},
   "outputs": [],
   "source": []
  },
  {
   "cell_type": "code",
   "execution_count": null,
   "metadata": {},
   "outputs": [],
   "source": []
  }
 ],
 "metadata": {
  "kernelspec": {
   "display_name": "Python 3",
   "language": "python",
   "name": "python3"
  },
  "language_info": {
   "codemirror_mode": {
    "name": "ipython",
    "version": 3
   },
   "file_extension": ".py",
   "mimetype": "text/x-python",
   "name": "python",
   "nbconvert_exporter": "python",
   "pygments_lexer": "ipython3",
   "version": "3.8.5"
  }
 },
 "nbformat": 4,
 "nbformat_minor": 4
}
