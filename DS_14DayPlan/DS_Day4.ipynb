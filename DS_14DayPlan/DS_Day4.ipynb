{
 "cells": [
  {
   "cell_type": "markdown",
   "metadata": {},
   "source": [
    "# DAY 4"
   ]
  },
  {
   "cell_type": "markdown",
   "metadata": {},
   "source": [
    "#### Q1. You are given an m x n matrix mat and two integers r and c representing the number of rows and \n",
    "#### the number of columns of the wanted reshaped matrix."
   ]
  },
  {
   "cell_type": "code",
   "execution_count": 14,
   "metadata": {},
   "outputs": [],
   "source": [
    "def reshape_matrix(mat,r,c):\n",
    "    m = len(mat)\n",
    "    n = len(mat[0])\n",
    "    if m*n != r*c:\n",
    "        \n",
    "        return mat\n",
    "    else:\n",
    "        \n",
    "        temp = []\n",
    "        for j in mat:\n",
    "            \n",
    "            temp += j\n",
    "        output = []\n",
    "        for i in range(r):\n",
    "            output.append(temp[i*c:(i+1)*c])\n",
    "        return output"
   ]
  },
  {
   "cell_type": "code",
   "execution_count": 15,
   "metadata": {},
   "outputs": [
    {
     "data": {
      "text/plain": [
       "[[1, 2, 3], [4, 5, 6]]"
      ]
     },
     "execution_count": 15,
     "metadata": {},
     "output_type": "execute_result"
    }
   ],
   "source": [
    "mat = [[1,2,3], [4,5,6]]\n",
    "\n",
    "reshape_matrix(mat, 1, 4)"
   ]
  },
  {
   "cell_type": "code",
   "execution_count": null,
   "metadata": {},
   "outputs": [],
   "source": []
  },
  {
   "cell_type": "markdown",
   "metadata": {},
   "source": [
    "#### Q2. Given an integer numRows, return the first numRows of Pascal's triangle.\n",
    "\n",
    "### In Pascal's triangle, each number is the sum of the two numbers directly above it as shown:"
   ]
  },
  {
   "cell_type": "code",
   "execution_count": null,
   "metadata": {},
   "outputs": [],
   "source": [
    " def generate(self, numRows: int) -> List[List[int]]:\n",
    "        output = []\n",
    "        for i in range(numRows):\n",
    "            output.append([1]*(i+1))\n",
    "            if i==0 or i==1:\n",
    "                continue\n",
    "            else:\n",
    "                if (i+1)%2 == 0:\n",
    "                    l,r = i//2, i//2 + 1\n",
    "                    while l > 0:\n",
    "                        output[i][l] = output[i][r] = output[i-1][l-1] + output[i-1][l]\n",
    "                        l-=1\n",
    "                        r+=1                        \n",
    "                else:\n",
    "                    l = r = i//2\n",
    "                    while l > 0:\n",
    "                        output[i][l] = output[i][r] = output[i-1][l-1] + output[i-1][l]\n",
    "                        l-=1\n",
    "                        r+=1                  \n",
    "        return output\n",
    "        "
   ]
  }
 ],
 "metadata": {
  "kernelspec": {
   "display_name": "Python 3",
   "language": "python",
   "name": "python3"
  },
  "language_info": {
   "codemirror_mode": {
    "name": "ipython",
    "version": 3
   },
   "file_extension": ".py",
   "mimetype": "text/x-python",
   "name": "python",
   "nbconvert_exporter": "python",
   "pygments_lexer": "ipython3",
   "version": "3.8.5"
  }
 },
 "nbformat": 4,
 "nbformat_minor": 4
}
