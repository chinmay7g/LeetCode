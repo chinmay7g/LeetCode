{
 "cells": [
  {
   "cell_type": "markdown",
   "metadata": {},
   "source": [
    "# Roman To Integer"
   ]
  },
  {
   "cell_type": "code",
   "execution_count": 10,
   "metadata": {},
   "outputs": [],
   "source": [
    "class Solution:\n",
    "    def romToInt(self, s):\n",
    "        \n",
    "        #defining a database for roman nos.\n",
    "        roman = {\"I\":1, \"V\":5, \"X\":10, \"L\":50, \"C\":100, \"D\":500, \"M\":1000}\n",
    "        \n",
    "        #setting up a variable to track our result\n",
    "        num = 0\n",
    "        \n",
    "        #setting the minimum value\n",
    "        minimum = \"I\"\n",
    "        \n",
    "        for numeral in s[::-1]:\n",
    "            if roman[numeral] < roman[minimum]:\n",
    "                num = num - roman[numeral]\n",
    "                \n",
    "            else: \n",
    "                num = num + roman[numeral]\n",
    "                \n",
    "            minimum = numeral\n",
    "            \n",
    "        return num\n",
    "    "
   ]
  },
  {
   "cell_type": "code",
   "execution_count": 11,
   "metadata": {},
   "outputs": [
    {
     "name": "stdout",
     "output_type": "stream",
     "text": [
      "14\n"
     ]
    }
   ],
   "source": [
    "sol = Solution()\n",
    "answer = sol.romToInt(\"XIV\")\n",
    "print(answer)"
   ]
  },
  {
   "cell_type": "code",
   "execution_count": null,
   "metadata": {},
   "outputs": [],
   "source": []
  }
 ],
 "metadata": {
  "kernelspec": {
   "display_name": "Python 3",
   "language": "python",
   "name": "python3"
  },
  "language_info": {
   "codemirror_mode": {
    "name": "ipython",
    "version": 3
   },
   "file_extension": ".py",
   "mimetype": "text/x-python",
   "name": "python",
   "nbconvert_exporter": "python",
   "pygments_lexer": "ipython3",
   "version": "3.8.5"
  }
 },
 "nbformat": 4,
 "nbformat_minor": 4
}
