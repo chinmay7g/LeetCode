{
 "cells": [
  {
   "cell_type": "markdown",
   "metadata": {},
   "source": [
    "# Palindrome"
   ]
  },
  {
   "cell_type": "code",
   "execution_count": null,
   "metadata": {},
   "outputs": [],
   "source": [
    "def isPalindrome(self, x):\n",
    "    return (str(x) == str(x)[::-1])"
   ]
  },
  {
   "cell_type": "code",
   "execution_count": 2,
   "metadata": {},
   "outputs": [
    {
     "name": "stdout",
     "output_type": "stream",
     "text": [
      "malayalaM\n",
      "2002\n"
     ]
    }
   ],
   "source": [
    "# Reversing a string \n",
    "\n",
    "def reverseString(s):\n",
    "    return (s[::-1]) \n",
    "#means starting and stopping at 0 and making a step of negative 1 i.e, placing the last one first\n",
    "\n",
    "word = \"Malayalam\"\n",
    "print(word[::-1])\n",
    "\n",
    "number = 2002\n",
    "print(str(number)[::-1])"
   ]
  },
  {
   "cell_type": "code",
   "execution_count": null,
   "metadata": {},
   "outputs": [],
   "source": []
  }
 ],
 "metadata": {
  "kernelspec": {
   "display_name": "Python 3",
   "language": "python",
   "name": "python3"
  },
  "language_info": {
   "codemirror_mode": {
    "name": "ipython",
    "version": 3
   },
   "file_extension": ".py",
   "mimetype": "text/x-python",
   "name": "python",
   "nbconvert_exporter": "python",
   "pygments_lexer": "ipython3",
   "version": "3.8.5"
  }
 },
 "nbformat": 4,
 "nbformat_minor": 4
}
