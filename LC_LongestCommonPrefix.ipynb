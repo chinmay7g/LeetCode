{
 "cells": [
  {
   "cell_type": "markdown",
   "metadata": {},
   "source": [
    "# Longest Common Prefix"
   ]
  },
  {
   "cell_type": "code",
   "execution_count": 15,
   "metadata": {},
   "outputs": [],
   "source": [
    "class Solution:\n",
    "    def longestCommonPrefix(self, strs):\n",
    "        \n",
    "        if len(strs) == 0:                              #if length is 0, return empty\n",
    "            return (\"\")\n",
    "        \n",
    "        if len(strs) == 1:                              #if length is 1, return first element\n",
    "            return (strs[0])\n",
    "        \n",
    "        if not strs:\n",
    "            return \"\"\n",
    "        \n",
    "        #assigning the first element of the string to the prefix\n",
    "        prefix = strs[0]\n",
    "        \n",
    "        #iterating over the entire input array\n",
    "        for element in strs:\n",
    "            \n",
    "            #checking the length of every element and comparing with prefix\n",
    "            if len(element) > len(prefix):\n",
    "                \n",
    "                #the element becomes now the prefix and vice versa\n",
    "                element, prefix = prefix, element\n",
    "                \n",
    "            while len(prefix)>0:\n",
    "                \n",
    "                    \n",
    "                #this condition checks sub-group and compares with prefix\n",
    "                if element[:len(prefix)] == prefix:\n",
    "                    \n",
    "                    break\n",
    "                    \n",
    "                else:\n",
    "                    \n",
    "                    #shortening the prefix automatically by one unit if not present\n",
    "                    prefix = prefix[:-1]\n",
    "                        \n",
    "        return prefix\n",
    "                    \n",
    "                \n",
    "                \n",
    "            "
   ]
  },
  {
   "cell_type": "code",
   "execution_count": 16,
   "metadata": {},
   "outputs": [
    {
     "name": "stdout",
     "output_type": "stream",
     "text": [
      "fl\n"
     ]
    }
   ],
   "source": [
    "strs = [\"flower\",\"flow\",\"flight\"]\n",
    "sol = Solution()\n",
    "\n",
    "answer = sol.longestCommonPrefix(strs)\n",
    "print(answer)"
   ]
  },
  {
   "cell_type": "code",
   "execution_count": null,
   "metadata": {},
   "outputs": [],
   "source": []
  },
  {
   "cell_type": "code",
   "execution_count": null,
   "metadata": {},
   "outputs": [],
   "source": []
  }
 ],
 "metadata": {
  "kernelspec": {
   "display_name": "Python 3",
   "language": "python",
   "name": "python3"
  },
  "language_info": {
   "codemirror_mode": {
    "name": "ipython",
    "version": 3
   },
   "file_extension": ".py",
   "mimetype": "text/x-python",
   "name": "python",
   "nbconvert_exporter": "python",
   "pygments_lexer": "ipython3",
   "version": "3.8.5"
  }
 },
 "nbformat": 4,
 "nbformat_minor": 4
}
