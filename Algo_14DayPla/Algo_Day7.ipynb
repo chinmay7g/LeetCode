{
 "cells": [
  {
   "cell_type": "markdown",
   "metadata": {},
   "source": [
    "# DAY 7"
   ]
  },
  {
   "cell_type": "markdown",
   "metadata": {},
   "source": [
    "#### FLOOD FILL"
   ]
  },
  {
   "cell_type": "code",
   "execution_count": null,
   "metadata": {},
   "outputs": [],
   "source": [
    "class Solution:\n",
    "    def floodFill(self, image: List[List[int]], sr: int, sc: int, newColor: int) -> List[List[int]]:\n",
    "        \n",
    "        R, C = len(image), len(image[0])\n",
    "        color = image[sr][sc]\n",
    "        \n",
    "        if color == newColor:\n",
    "            return image\n",
    "        def dfs(r,c):\n",
    "            \n",
    "            if image[r][c] == color:\n",
    "                image[r][c] = newColor\n",
    "                \n",
    "                if r>=1: \n",
    "                    \n",
    "                    dfs(r-1,c)\n",
    "                    \n",
    "                if r+1 < R:\n",
    "                    dfs(r+1,c)\n",
    "                    \n",
    "                if c>=1:\n",
    "                    dfs(r,c-1)\n",
    "                    \n",
    "                if c+1 < C:\n",
    "                    dfs(r,c+1)\n",
    "                    \n",
    "        dfs(sr,sc)\n",
    "        return image        "
   ]
  },
  {
   "cell_type": "code",
   "execution_count": null,
   "metadata": {},
   "outputs": [],
   "source": []
  },
  {
   "cell_type": "markdown",
   "metadata": {},
   "source": [
    "#### Max Area of Island"
   ]
  },
  {
   "cell_type": "code",
   "execution_count": null,
   "metadata": {},
   "outputs": [],
   "source": [
    "class Solution:\n",
    "    def maxAreaOfIsland(self, grid: List[List[int]]) -> int:\n",
    "        ROWS, COLS = len(grid), len(grid[0])\n",
    "        visit = set()\n",
    "        \n",
    "        def dfs(r,c):\n",
    "            if (r<0 or c<0 or r==ROWS or c==COLS or grid[r][c]==0 or (r,c) in visit):\n",
    "                return 0\n",
    "            visit.add((r,c))\n",
    "            return (1 + dfs(r+1,c)+dfs(r-1,c)+dfs(r,c+1)+dfs(r,c-1))\n",
    "        \n",
    "        area = 0\n",
    "        for r in range(ROWS):\n",
    "            for c in range(COLS):\n",
    "                area = max(area, dfs(r,c))\n",
    "                \n",
    "        return area\n",
    "                 \n",
    "            \n",
    "        "
   ]
  },
  {
   "cell_type": "code",
   "execution_count": null,
   "metadata": {},
   "outputs": [],
   "source": []
  },
  {
   "cell_type": "code",
   "execution_count": null,
   "metadata": {},
   "outputs": [],
   "source": []
  },
  {
   "cell_type": "code",
   "execution_count": null,
   "metadata": {},
   "outputs": [],
   "source": []
  },
  {
   "cell_type": "code",
   "execution_count": null,
   "metadata": {},
   "outputs": [],
   "source": []
  }
 ],
 "metadata": {
  "kernelspec": {
   "display_name": "Python 3",
   "language": "python",
   "name": "python3"
  },
  "language_info": {
   "codemirror_mode": {
    "name": "ipython",
    "version": 3
   },
   "file_extension": ".py",
   "mimetype": "text/x-python",
   "name": "python",
   "nbconvert_exporter": "python",
   "pygments_lexer": "ipython3",
   "version": "3.8.5"
  }
 },
 "nbformat": 4,
 "nbformat_minor": 4
}
