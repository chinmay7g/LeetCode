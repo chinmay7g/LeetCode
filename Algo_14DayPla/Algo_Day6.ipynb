{
 "cells": [
  {
   "cell_type": "markdown",
   "metadata": {},
   "source": [
    "# DAY 6"
   ]
  },
  {
   "cell_type": "markdown",
   "metadata": {},
   "source": [
    "### Longest substring without repitition"
   ]
  },
  {
   "cell_type": "code",
   "execution_count": 3,
   "metadata": {},
   "outputs": [],
   "source": [
    "def longest(s):\n",
    "    \n",
    "    if len(s)== 0:\n",
    "        return 0\n",
    "    \n",
    "    start_idx = 0\n",
    "    end_idx = 0\n",
    "    maxLength = 0\n",
    "    chars = set()\n",
    "    \n",
    "    while end_idx < len(s):\n",
    "        if s[end_idx] not in chars:\n",
    "            chars.add(s[end_idx])\n",
    "            end_idx += 1\n",
    "            maxLength = max(maxLength, len(chars))\n",
    "            \n",
    "        else: \n",
    "            chars.remove(s[start_idx])\n",
    "            start_idx += 1\n",
    "            \n",
    "    return maxLength"
   ]
  },
  {
   "cell_type": "code",
   "execution_count": 4,
   "metadata": {},
   "outputs": [
    {
     "data": {
      "text/plain": [
       "9"
      ]
     },
     "execution_count": 4,
     "metadata": {},
     "output_type": "execute_result"
    }
   ],
   "source": [
    "longest(\"jgngnofniogopgmtkonyrklbroznbfioea\")"
   ]
  },
  {
   "cell_type": "code",
   "execution_count": null,
   "metadata": {},
   "outputs": [],
   "source": []
  },
  {
   "cell_type": "markdown",
   "metadata": {},
   "source": [
    "### Permutation in a string"
   ]
  },
  {
   "cell_type": "code",
   "execution_count": 2,
   "metadata": {},
   "outputs": [],
   "source": [
    "from collections import Counter\n",
    "def checkInclusion(s1, s2):\n",
    "    \n",
    "    s1_freq= Counter(s1)\n",
    "    left = 0\n",
    "    right = len(s1)\n",
    "    \n",
    "    while right <= len(s2):\n",
    "        s2_window_freq = Counter(s2[left:right])\n",
    "        \n",
    "        if s2_window_freq == s1_freq:\n",
    "            return True\n",
    "        \n",
    "        else:\n",
    "            left += 1\n",
    "            right += 1\n",
    "    return False"
   ]
  },
  {
   "cell_type": "code",
   "execution_count": 3,
   "metadata": {},
   "outputs": [
    {
     "data": {
      "text/plain": [
       "True"
      ]
     },
     "execution_count": 3,
     "metadata": {},
     "output_type": "execute_result"
    }
   ],
   "source": [
    "checkInclusion(\"ab\", \"idambaoo\")"
   ]
  },
  {
   "cell_type": "code",
   "execution_count": null,
   "metadata": {},
   "outputs": [],
   "source": []
  },
  {
   "cell_type": "code",
   "execution_count": null,
   "metadata": {},
   "outputs": [],
   "source": []
  },
  {
   "cell_type": "code",
   "execution_count": null,
   "metadata": {},
   "outputs": [],
   "source": []
  },
  {
   "cell_type": "code",
   "execution_count": null,
   "metadata": {},
   "outputs": [],
   "source": []
  }
 ],
 "metadata": {
  "kernelspec": {
   "display_name": "Python 3",
   "language": "python",
   "name": "python3"
  },
  "language_info": {
   "codemirror_mode": {
    "name": "ipython",
    "version": 3
   },
   "file_extension": ".py",
   "mimetype": "text/x-python",
   "name": "python",
   "nbconvert_exporter": "python",
   "pygments_lexer": "ipython3",
   "version": "3.8.5"
  }
 },
 "nbformat": 4,
 "nbformat_minor": 4
}
