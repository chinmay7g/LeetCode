{
 "cells": [
  {
   "cell_type": "markdown",
   "metadata": {},
   "source": [
    "# DAY 5"
   ]
  },
  {
   "cell_type": "markdown",
   "metadata": {},
   "source": [
    "### Middle of linked list"
   ]
  },
  {
   "cell_type": "markdown",
   "metadata": {},
   "source": [
    "#### Q1. Given the head of a singly linked list, return the middle node of the linked list.\n",
    "\n",
    "#### If there are two middle nodes, return the second middle node."
   ]
  },
  {
   "cell_type": "code",
   "execution_count": null,
   "metadata": {},
   "outputs": [],
   "source": [
    "class Solution:\n",
    "    def middleNode(self, head: Optional[ListNode]) -> Optional[ListNode]:\n",
    "        \n",
    "        length = 0\n",
    "        start = node = head\n",
    "        \n",
    "        while start:\n",
    "            length += 1\n",
    "            start = start.next\n",
    "            \n",
    "        middle = length // 2\n",
    "        counter = 0\n",
    "        \n",
    "        while node:\n",
    "            if counter == middle:\n",
    "                return node\n",
    "            else:\n",
    "                counter += 1\n",
    "                node = node.next\n",
    "        return None\n"
   ]
  },
  {
   "cell_type": "markdown",
   "metadata": {},
   "source": [
    "### Remove nth node"
   ]
  },
  {
   "cell_type": "markdown",
   "metadata": {},
   "source": [
    "### Q2. Given the head of a linked list, remove the nth node from the end of the list and return its head."
   ]
  },
  {
   "cell_type": "code",
   "execution_count": null,
   "metadata": {},
   "outputs": [],
   "source": [
    "def removeNthnode(linkedList, n):\n",
    "    \n",
    "    #creating dummy node\n",
    "    dummy = ListNode(0, head) #meaning it will take the next value of head if not 0\n",
    "    left = dummy\n",
    "    right = head\n",
    "    \n",
    "    while n>0 and right: #meaning it reaches the end of linked list\n",
    "        right = right.next\n",
    "        n -= 1\n",
    "        \n",
    "    while right:\n",
    "        left = left.next\n",
    "        right = right.next\n",
    "        \n",
    "       #unitl now we have assigned pointers and created the neccessary \"n\" gap \n",
    "    # deletion here means skipping the nth node and going over to the next\n",
    "    \n",
    "    left.next = left.next.next\n",
    "    return dummy.next"
   ]
  },
  {
   "cell_type": "code",
   "execution_count": null,
   "metadata": {},
   "outputs": [],
   "source": []
  },
  {
   "cell_type": "code",
   "execution_count": null,
   "metadata": {},
   "outputs": [],
   "source": []
  },
  {
   "cell_type": "code",
   "execution_count": null,
   "metadata": {},
   "outputs": [],
   "source": []
  },
  {
   "cell_type": "code",
   "execution_count": null,
   "metadata": {},
   "outputs": [],
   "source": []
  }
 ],
 "metadata": {
  "kernelspec": {
   "display_name": "Python 3",
   "language": "python",
   "name": "python3"
  },
  "language_info": {
   "codemirror_mode": {
    "name": "ipython",
    "version": 3
   },
   "file_extension": ".py",
   "mimetype": "text/x-python",
   "name": "python",
   "nbconvert_exporter": "python",
   "pygments_lexer": "ipython3",
   "version": "3.8.5"
  }
 },
 "nbformat": 4,
 "nbformat_minor": 4
}
