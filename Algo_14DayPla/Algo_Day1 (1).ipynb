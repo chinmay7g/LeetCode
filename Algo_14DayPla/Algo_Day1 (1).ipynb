{
 "cells": [
  {
   "cell_type": "markdown",
   "metadata": {},
   "source": [
    "# DAY 1"
   ]
  },
  {
   "cell_type": "markdown",
   "metadata": {},
   "source": [
    "#### Given an array of integers nums which is sorted in ascending order, and an integer target,\n",
    "#### write a function to search target in nums. If target exists, then return its index. Otherwise, return first index."
   ]
  },
  {
   "cell_type": "markdown",
   "metadata": {},
   "source": [
    "##### Binary Search"
   ]
  },
  {
   "cell_type": "code",
   "execution_count": null,
   "metadata": {},
   "outputs": [],
   "source": [
    "class Solution:\n",
    "    def search(self, nums: List[int], target: int) -> int:\n",
    "        nums.sort()\n",
    "        if target in nums:\n",
    "            index = nums.index(target)  ## Important Step: To get index\n",
    "            return index\n",
    "        else:\n",
    "            return -1"
   ]
  },
  {
   "cell_type": "markdown",
   "metadata": {},
   "source": [
    "#### Q2. You are a product manager and currently leading a team to develop a new product. Unfortunately, the latest version of \n",
    "#### your product fails the quality check.Since each version is developed based on the previous version, all the versions\n",
    "#### after a bad version are also bad.Suppose you have n versions [1, 2, ..., n] and you want to find out the first bad one,\n",
    "#### which causes all the following ones to be bad.You are given an API bool isBadVersion(version) which returns whether\n",
    "#### version is bad. Implement a function to find the first bad version. You should minimize the number of calls to the API."
   ]
  },
  {
   "cell_type": "code",
   "execution_count": null,
   "metadata": {},
   "outputs": [],
   "source": [
    "class Solution:\n",
    "    def firstBadVersion(self, n):\n",
    "        \"\"\"\n",
    "        :type n: int\n",
    "        :rtype: int\n",
    "        \"\"\"\n",
    "        start = 1\n",
    "        end = n\n",
    "        \n",
    "        while start + 1 < end:\n",
    "            mid = start + (end - start) // 2\n",
    "            \n",
    "            if isBadVersion(mid) == True:\n",
    "                end = mid\n",
    "            else:\n",
    "                start = mid"
   ]
  },
  {
   "cell_type": "markdown",
   "metadata": {},
   "source": [
    "#### Q3. Given a sorted array of distinct integers and a target value, return the index if the target is found. \n",
    "#### If not, return the index where it would be if it were inserted in order."
   ]
  },
  {
   "cell_type": "code",
   "execution_count": null,
   "metadata": {},
   "outputs": [],
   "source": [
    "class Solution:\n",
    "    def searchInsert(self, nums: List[int], target: int) -> int:\n",
    "        start = 0\n",
    "        end = len(nums) - 1\n",
    "        \n",
    "        while start + 1 < end:\n",
    "            mid = start + (end - start) // 2\n",
    "                 \n",
    "            if nums[mid] == target:\n",
    "                end = mid\n",
    "            elif nums[mid] < target:\n",
    "                start = mid\n",
    "            else:\n",
    "                end = mid\n",
    "        \n",
    "        if nums[start] >= target:\n",
    "            return start\n",
    "        \n",
    "        if nums[end] >= target:\n",
    "            return end\n",
    "        \n",
    "        return end + 1\n",
    "            \n",
    "        "
   ]
  }
 ],
 "metadata": {
  "kernelspec": {
   "display_name": "Python 3",
   "language": "python",
   "name": "python3"
  },
  "language_info": {
   "codemirror_mode": {
    "name": "ipython",
    "version": 3
   },
   "file_extension": ".py",
   "mimetype": "text/x-python",
   "name": "python",
   "nbconvert_exporter": "python",
   "pygments_lexer": "ipython3",
   "version": "3.8.5"
  }
 },
 "nbformat": 4,
 "nbformat_minor": 4
}
