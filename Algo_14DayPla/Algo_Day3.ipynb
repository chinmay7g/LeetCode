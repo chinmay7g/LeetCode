{
 "cells": [
  {
   "cell_type": "markdown",
   "metadata": {},
   "source": [
    "# DAY 3"
   ]
  },
  {
   "cell_type": "markdown",
   "metadata": {},
   "source": [
    "### Move zeroes"
   ]
  },
  {
   "cell_type": "markdown",
   "metadata": {},
   "source": [
    "#### Q1. Given an integer array nums, move all 0's to the end of it while maintaining the relative\n",
    "#### order of the non-zero elements."
   ]
  },
  {
   "cell_type": "code",
   "execution_count": 3,
   "metadata": {},
   "outputs": [],
   "source": [
    "def move_zeroes(nums):\n",
    "    index_length = range(len(nums))\n",
    "    previous_index=0\n",
    "    for i in index_length:\n",
    "        if nums[i] != 0:\n",
    "            hold = nums[previous_index]\n",
    "            nums[previous_index] = nums[i]\n",
    "            nums[i] = hold\n",
    "            previous_index += 1\n",
    "    return move_zeroes"
   ]
  },
  {
   "cell_type": "code",
   "execution_count": 4,
   "metadata": {},
   "outputs": [
    {
     "data": {
      "text/plain": [
       "<function __main__.move_zeroes(nums)>"
      ]
     },
     "execution_count": 4,
     "metadata": {},
     "output_type": "execute_result"
    }
   ],
   "source": [
    "move_zeroes([0,1,0,0,2,0,3,0])"
   ]
  },
  {
   "cell_type": "markdown",
   "metadata": {},
   "source": [
    "### Two Sum II - Input Array Is Sorted"
   ]
  },
  {
   "cell_type": "markdown",
   "metadata": {},
   "source": [
    "##### Q2. Given a 1-indexed array of integers numbers that is already sorted in non-decreasing order,\n",
    "##### find two numbers such that they add up to a specific target number. Return the indices of the two numbers, index1 and index2, added by one as an integer array [index1, index2] of length 2."
   ]
  },
  {
   "cell_type": "markdown",
   "metadata": {},
   "source": [
    "####### Two Sum -1 first"
   ]
  },
  {
   "cell_type": "code",
   "execution_count": 1,
   "metadata": {},
   "outputs": [],
   "source": [
    "def twoSum(nums, target):\n",
    "    \n",
    "    dict_nums = {}\n",
    "    \n",
    "    for index, num in enumerate(nums):\n",
    "        dict_nums[num] = index\n",
    "        \n",
    "    for index, nums in enumerate(nums):\n",
    "        if target-num in dict_nums and index != dict_nums[target-nums]:\n",
    "            return [index, dict_nums[target-nums]]"
   ]
  },
  {
   "cell_type": "code",
   "execution_count": 2,
   "metadata": {},
   "outputs": [],
   "source": [
    "twoSum([1,2,5,7,8], 3)"
   ]
  },
  {
   "cell_type": "markdown",
   "metadata": {},
   "source": [
    "#### TwoSum-ii"
   ]
  },
  {
   "cell_type": "code",
   "execution_count": 3,
   "metadata": {},
   "outputs": [],
   "source": [
    "def twoSum(nums, target):\n",
    "    \n",
    "    #initializing pointers\n",
    "    l, r = 0, len(nums)-1\n",
    "    \n",
    "    while l < r:\n",
    "        \n",
    "        currentSum = nums[l] + nums[r]\n",
    "        \n",
    "        if currentSum > target:\n",
    "            r -= 1\n",
    "        \n",
    "        elif currentSum < target:\n",
    "            l += 1\n",
    "            \n",
    "        else:\n",
    "            return [l+1, r+1]"
   ]
  },
  {
   "cell_type": "code",
   "execution_count": 4,
   "metadata": {},
   "outputs": [
    {
     "data": {
      "text/plain": [
       "[3, 4]"
      ]
     },
     "execution_count": 4,
     "metadata": {},
     "output_type": "execute_result"
    }
   ],
   "source": [
    "twoSum([2,5,7,11,19], 18)"
   ]
  },
  {
   "cell_type": "markdown",
   "metadata": {},
   "source": [
    "##### It works!"
   ]
  },
  {
   "cell_type": "code",
   "execution_count": null,
   "metadata": {},
   "outputs": [],
   "source": []
  }
 ],
 "metadata": {
  "kernelspec": {
   "display_name": "Python 3",
   "language": "python",
   "name": "python3"
  },
  "language_info": {
   "codemirror_mode": {
    "name": "ipython",
    "version": 3
   },
   "file_extension": ".py",
   "mimetype": "text/x-python",
   "name": "python",
   "nbconvert_exporter": "python",
   "pygments_lexer": "ipython3",
   "version": "3.8.5"
  }
 },
 "nbformat": 4,
 "nbformat_minor": 4
}
