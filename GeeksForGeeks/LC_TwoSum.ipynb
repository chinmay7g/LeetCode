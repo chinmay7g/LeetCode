{
 "cells": [
  {
   "cell_type": "markdown",
   "metadata": {},
   "source": [
    "# Two Sum"
   ]
  },
  {
   "cell_type": "code",
   "execution_count": null,
   "metadata": {},
   "outputs": [],
   "source": [
    "class Solution:\n",
    "    def twoSums(self, nums, target):\n",
    "        \n",
    "        dictionary_nums = {} #create empty dictionary\n",
    "        \n",
    "        #iterate over the nums array, and store it as key and index as value\n",
    "        for idx, num in enumerate(nums):\n",
    "            dictionary_nums[num] = idx \n",
    "            \n",
    "        for i, num in enumerate(nums):\n",
    "            if target-num in dictionary_nums and idx != dictionary_nums[target-num]:\n",
    "                return [idx, dictionary_nums[target-num]]\n",
    "        "
   ]
  }
 ],
 "metadata": {
  "kernelspec": {
   "display_name": "Python 3",
   "language": "python",
   "name": "python3"
  },
  "language_info": {
   "codemirror_mode": {
    "name": "ipython",
    "version": 3
   },
   "file_extension": ".py",
   "mimetype": "text/x-python",
   "name": "python",
   "nbconvert_exporter": "python",
   "pygments_lexer": "ipython3",
   "version": "3.8.5"
  }
 },
 "nbformat": 4,
 "nbformat_minor": 4
}
