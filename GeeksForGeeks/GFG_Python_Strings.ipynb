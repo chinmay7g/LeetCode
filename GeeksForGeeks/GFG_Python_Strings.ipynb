{
 "cells": [
  {
   "cell_type": "markdown",
   "metadata": {},
   "source": [
    "# MATRIX"
   ]
  },
  {
   "cell_type": "code",
   "execution_count": 5,
   "metadata": {},
   "outputs": [],
   "source": [
    "def sum_matrix(x,y):\n",
    "    answer = [map(sum, zip(*t)) for t in zip(x,y)]\n",
    "    return answer"
   ]
  },
  {
   "cell_type": "code",
   "execution_count": 6,
   "metadata": {},
   "outputs": [
    {
     "name": "stdout",
     "output_type": "stream",
     "text": [
      "[<map object at 0x000001BB1930CA60>, <map object at 0x000001BB1930CB80>, <map object at 0x000001BB1930CC10>]\n",
      "None\n"
     ]
    }
   ],
   "source": [
    "X = [[1,2,3],\n",
    "    [4 ,5,6],\n",
    "    [7 ,8,9]]\n",
    "  \n",
    "Y = [[9,8,7],\n",
    "    [6,5,4],\n",
    "    [3,2,1]]\n",
    "\n",
    "print(sum_matrix(X,Y))"
   ]
  },
  {
   "cell_type": "markdown",
   "metadata": {},
   "source": [
    "# STRING"
   ]
  },
  {
   "cell_type": "markdown",
   "metadata": {},
   "source": [
    "### Check in string is symmetrical or Palindrome"
   ]
  },
  {
   "cell_type": "code",
   "execution_count": 19,
   "metadata": {},
   "outputs": [
    {
     "name": "stdout",
     "output_type": "stream",
     "text": [
      "Yes it is a palindrome\n"
     ]
    }
   ],
   "source": [
    "def checkP(input_string):\n",
    "    if (input_string.lower()[:]== input_string.lower()[::-1]):\n",
    "        print('Yes it is a palindrome')\n",
    "    else:\n",
    "        print('No it is not a palindrome')\n",
    "        \n",
    "checkP('MalayAlam')"
   ]
  },
  {
   "cell_type": "markdown",
   "metadata": {},
   "source": [
    "### Reverse words in a given string"
   ]
  },
  {
   "cell_type": "code",
   "execution_count": 21,
   "metadata": {},
   "outputs": [
    {
     "data": {
      "text/plain": [
       "'yamnihC'"
      ]
     },
     "execution_count": 21,
     "metadata": {},
     "output_type": "execute_result"
    }
   ],
   "source": [
    "def reverse(input_string):\n",
    "    return input_string[::-1]\n",
    "\n",
    "reverse(\"Chinmay\")"
   ]
  },
  {
   "cell_type": "markdown",
   "metadata": {},
   "source": [
    "### Remove ith character"
   ]
  },
  {
   "cell_type": "code",
   "execution_count": 1,
   "metadata": {},
   "outputs": [],
   "source": [
    "#replacing the ith character with something else or just a blank space\n",
    "def remove(input_string, char):\n",
    "    new = input_string.replace(char,\"\",1) #1 indicates the removal of the first occurence given there are multiple\n",
    "    return new    "
   ]
  },
  {
   "cell_type": "code",
   "execution_count": 3,
   "metadata": {},
   "outputs": [
    {
     "name": "stdout",
     "output_type": "stream",
     "text": [
      "wertyqwerty\n",
      "rtyqwerty\n"
     ]
    }
   ],
   "source": [
    "#let's see for single string\n",
    "print(remove(\"qwertyqwerty\",\"q\" ))\n",
    "\n",
    "#for bunch of characters\n",
    "print(remove(\"qwertyqwerty\", \"qwe\"))"
   ]
  },
  {
   "cell_type": "markdown",
   "metadata": {},
   "source": [
    "##### The replace function was used inplace of any other function like drop/remove becasue string is immutable"
   ]
  },
  {
   "cell_type": "markdown",
   "metadata": {},
   "source": [
    "#### New program to remove ith character based on input occurence"
   ]
  },
  {
   "cell_type": "code",
   "execution_count": 4,
   "metadata": {},
   "outputs": [],
   "source": [
    "def new_remove(input_string, char_to_remove, pos_of_occurence):\n",
    "    new_string = input_string.replace(char_to_remove,\"\", pos_of_occurence)\n",
    "    return new_string"
   ]
  },
  {
   "cell_type": "code",
   "execution_count": 5,
   "metadata": {},
   "outputs": [
    {
     "data": {
      "text/plain": [
       "'xxxsfcoxoxox'"
      ]
     },
     "execution_count": 5,
     "metadata": {},
     "output_type": "execute_result"
    }
   ],
   "source": [
    "new_remove(\"xoxoxosofocoxoxox\", \"o\", 5 )"
   ]
  },
  {
   "cell_type": "markdown",
   "metadata": {},
   "source": [
    "### Check if substring is part of string"
   ]
  },
  {
   "cell_type": "code",
   "execution_count": 12,
   "metadata": {},
   "outputs": [],
   "source": [
    "def check_sub(input_string, sub_string):\n",
    "    for i in range(len(input_string)):\n",
    "        \n",
    "        if (input_string[i] in sub_string[i]):\n",
    "            print(\"Yes\")\n",
    "        else:\n",
    "            print(\"No\")"
   ]
  },
  {
   "cell_type": "code",
   "execution_count": 13,
   "metadata": {},
   "outputs": [
    {
     "name": "stdout",
     "output_type": "stream",
     "text": [
      "Yes\n",
      "Yes\n",
      "Yes\n",
      "Yes\n"
     ]
    },
    {
     "ename": "IndexError",
     "evalue": "string index out of range",
     "output_type": "error",
     "traceback": [
      "\u001b[1;31m---------------------------------------------------------------------------\u001b[0m",
      "\u001b[1;31mIndexError\u001b[0m                                Traceback (most recent call last)",
      "\u001b[1;32m<ipython-input-13-f05a38f95217>\u001b[0m in \u001b[0;36m<module>\u001b[1;34m\u001b[0m\n\u001b[1;32m----> 1\u001b[1;33m \u001b[0mcheck_sub\u001b[0m\u001b[1;33m(\u001b[0m\u001b[1;34m\"Chinmay\"\u001b[0m\u001b[1;33m,\u001b[0m \u001b[1;34m\"Chin\"\u001b[0m\u001b[1;33m)\u001b[0m\u001b[1;33m\u001b[0m\u001b[1;33m\u001b[0m\u001b[0m\n\u001b[0m",
      "\u001b[1;32m<ipython-input-12-2c704aeac45c>\u001b[0m in \u001b[0;36mcheck_sub\u001b[1;34m(input_string, sub_string)\u001b[0m\n\u001b[0;32m      2\u001b[0m     \u001b[1;32mfor\u001b[0m \u001b[0mi\u001b[0m \u001b[1;32min\u001b[0m \u001b[0mrange\u001b[0m\u001b[1;33m(\u001b[0m\u001b[0mlen\u001b[0m\u001b[1;33m(\u001b[0m\u001b[0minput_string\u001b[0m\u001b[1;33m)\u001b[0m\u001b[1;33m)\u001b[0m\u001b[1;33m:\u001b[0m\u001b[1;33m\u001b[0m\u001b[1;33m\u001b[0m\u001b[0m\n\u001b[0;32m      3\u001b[0m \u001b[1;33m\u001b[0m\u001b[0m\n\u001b[1;32m----> 4\u001b[1;33m         \u001b[1;32mif\u001b[0m \u001b[1;33m(\u001b[0m\u001b[0minput_string\u001b[0m\u001b[1;33m[\u001b[0m\u001b[0mi\u001b[0m\u001b[1;33m]\u001b[0m \u001b[1;32min\u001b[0m \u001b[0msub_string\u001b[0m\u001b[1;33m[\u001b[0m\u001b[0mi\u001b[0m\u001b[1;33m]\u001b[0m\u001b[1;33m)\u001b[0m\u001b[1;33m:\u001b[0m\u001b[1;33m\u001b[0m\u001b[1;33m\u001b[0m\u001b[0m\n\u001b[0m\u001b[0;32m      5\u001b[0m             \u001b[0mprint\u001b[0m\u001b[1;33m(\u001b[0m\u001b[1;34m\"Yes\"\u001b[0m\u001b[1;33m)\u001b[0m\u001b[1;33m\u001b[0m\u001b[1;33m\u001b[0m\u001b[0m\n\u001b[0;32m      6\u001b[0m         \u001b[1;32melse\u001b[0m\u001b[1;33m:\u001b[0m\u001b[1;33m\u001b[0m\u001b[1;33m\u001b[0m\u001b[0m\n",
      "\u001b[1;31mIndexError\u001b[0m: string index out of range"
     ]
    }
   ],
   "source": [
    "check_sub(\"Chinmay\", \"Chin\")"
   ]
  },
  {
   "cell_type": "markdown",
   "metadata": {},
   "source": [
    "### Correct_Solution from the web_ Method1"
   ]
  },
  {
   "cell_type": "code",
   "execution_count": 19,
   "metadata": {},
   "outputs": [
    {
     "name": "stdout",
     "output_type": "stream",
     "text": [
      "Yes\n",
      "None\n"
     ]
    }
   ],
   "source": [
    "def check_method1(s1,s2):\n",
    "    string1 = s1.lower()\n",
    "    string2 = s2.lower()\n",
    "    if string1.count(string2)>0:\n",
    "        print(\"Yes\")\n",
    "    else:\n",
    "        print(\"No\")\n",
    "        \n",
    "print(check_method1(\"Regex\", 're'))"
   ]
  },
  {
   "cell_type": "markdown",
   "metadata": {},
   "source": [
    "#### Method 2"
   ]
  },
  {
   "cell_type": "code",
   "execution_count": 24,
   "metadata": {},
   "outputs": [
    {
     "name": "stdout",
     "output_type": "stream",
     "text": [
      "Exists\n",
      "Exists\n",
      "None\n"
     ]
    }
   ],
   "source": [
    "def check_2(string1,string2):\n",
    "    if (string1.lower().find(string2.lower())==-1):\n",
    "        print(\"Does not exist\")\n",
    "    else:\n",
    "        print(\"Exists\")\n",
    "        \n",
    "check_2(\"Chinmay\", 'Chi')\n",
    "print(check_2('Chinmay', 'chi'))"
   ]
  },
  {
   "cell_type": "markdown",
   "metadata": {},
   "source": [
    "### Word frequency in string"
   ]
  },
  {
   "cell_type": "code",
   "execution_count": 30,
   "metadata": {},
   "outputs": [],
   "source": [
    "from collections import Counter\n",
    "\n",
    "def stringCount(input_string):\n",
    "    count = Counter(input_string.split())\n",
    "    return count"
   ]
  },
  {
   "cell_type": "code",
   "execution_count": 32,
   "metadata": {},
   "outputs": [
    {
     "data": {
      "text/plain": [
       "Counter({'Chinmay': 2,\n",
       "         'is': 2,\n",
       "         'pursuing': 2,\n",
       "         'Masters': 1,\n",
       "         'in': 1,\n",
       "         'Financial': 1,\n",
       "         'Engineering': 1,\n",
       "         'and': 1,\n",
       "         'Probability': 1,\n",
       "         'as': 1,\n",
       "         'well': 1})"
      ]
     },
     "execution_count": 32,
     "metadata": {},
     "output_type": "execute_result"
    }
   ],
   "source": [
    "stringCount(\"Chinmay is pursuing Masters in Financial Engineering and Chinmay is pursuing Probability as well\" )"
   ]
  },
  {
   "cell_type": "markdown",
   "metadata": {},
   "source": [
    "##### Method2: Using dictionary comprehension+split+count"
   ]
  },
  {
   "cell_type": "code",
   "execution_count": 33,
   "metadata": {},
   "outputs": [],
   "source": [
    "def cc(s1):\n",
    "    answer = {key: s1.count(key) for key in s1.split()}\n",
    "    return answer"
   ]
  },
  {
   "cell_type": "code",
   "execution_count": 34,
   "metadata": {},
   "outputs": [
    {
     "name": "stdout",
     "output_type": "stream",
     "text": [
      "{'Chinmay': 2, 'is': 2, 'pursuing': 2, 'Masters': 1, 'in': 8, 'Financial': 1, 'Engineering': 1, 'and': 1, 'Probability': 1, 'as': 2, 'well': 1}\n"
     ]
    }
   ],
   "source": [
    "print(cc(\"Chinmay is pursuing Masters in Financial Engineering and Chinmay is pursuing Probability as well\"))"
   ]
  },
  {
   "cell_type": "markdown",
   "metadata": {},
   "source": [
    "### Counting word frequency in a string"
   ]
  },
  {
   "cell_type": "markdown",
   "metadata": {},
   "source": [
    "#### Method 1"
   ]
  },
  {
   "cell_type": "code",
   "execution_count": 26,
   "metadata": {},
   "outputs": [],
   "source": [
    "def word_freq(input_string):\n",
    "    freq={}\n",
    "    for i in input_string:\n",
    "        if i in freq:\n",
    "            freq[i] += 1\n",
    "        else:\n",
    "            freq[i]=1\n",
    "    return freq"
   ]
  },
  {
   "cell_type": "code",
   "execution_count": 27,
   "metadata": {},
   "outputs": [
    {
     "name": "stdout",
     "output_type": "stream",
     "text": [
      "{'G': 2, 'e': 4, 'k': 2, 's': 2, 'F': 1, 'o': 1, 'r': 1}\n"
     ]
    }
   ],
   "source": [
    "print(word_freq('GeeksForGeeks'))"
   ]
  },
  {
   "cell_type": "markdown",
   "metadata": {},
   "source": [
    "##### Method 2"
   ]
  },
  {
   "cell_type": "code",
   "execution_count": 28,
   "metadata": {},
   "outputs": [],
   "source": [
    "from collections import Counter\n",
    "\n",
    "def counter(input_string):\n",
    "    answer = Counter(input_string)\n",
    "    return answer"
   ]
  },
  {
   "cell_type": "code",
   "execution_count": 29,
   "metadata": {},
   "outputs": [
    {
     "name": "stdout",
     "output_type": "stream",
     "text": [
      "Counter({'e': 4, 'G': 2, 'k': 2, 's': 2, 'F': 1, 'o': 1, 'r': 1})\n"
     ]
    }
   ],
   "source": [
    "print(counter('GeeksForGeeks'))"
   ]
  },
  {
   "cell_type": "markdown",
   "metadata": {},
   "source": [
    "### Converting snake case into normal case"
   ]
  },
  {
   "cell_type": "code",
   "execution_count": 40,
   "metadata": {},
   "outputs": [],
   "source": [
    "def snake(input_string):\n",
    "    answer=input_string.replace(\"_\", \" \")\n",
    "    return answer"
   ]
  },
  {
   "cell_type": "code",
   "execution_count": 49,
   "metadata": {},
   "outputs": [
    {
     "name": "stdout",
     "output_type": "stream",
     "text": [
      "<class 'str'>\n"
     ]
    }
   ],
   "source": [
    "snake('Chinmay_MS_student')\n",
    "print(type(snake('Chinmay_MS_student')))"
   ]
  },
  {
   "cell_type": "code",
   "execution_count": 48,
   "metadata": {},
   "outputs": [
    {
     "name": "stdout",
     "output_type": "stream",
     "text": [
      "['qwerty']\n",
      "['abcd']\n",
      "['efgh']\n",
      "q\n"
     ]
    }
   ],
   "source": [
    "a = 'qwerty abcd efgh'\n",
    "b = a.split()\n",
    "for i in range(len(b)):\n",
    "    print([b[i]])\n",
    "print(b[0][0])"
   ]
  },
  {
   "cell_type": "markdown",
   "metadata": {},
   "source": [
    "### Pascal Case to Camel case"
   ]
  },
  {
   "cell_type": "code",
   "execution_count": 3,
   "metadata": {},
   "outputs": [
    {
     "data": {
      "text/plain": [
       "'ChinmayIsAQuant'"
      ]
     },
     "execution_count": 3,
     "metadata": {},
     "output_type": "execute_result"
    }
   ],
   "source": [
    "def pc(input_string):\n",
    "    pasc_norm = input_string.replace(\"_\", \" \").title().replace(\" \",\"\")\n",
    "    return pasc_norm\n",
    "\n",
    "input_string = 'chinmay_is_a_quant'\n",
    "pc(input_string)"
   ]
  },
  {
   "cell_type": "markdown",
   "metadata": {},
   "source": [
    "### Length of a string"
   ]
  },
  {
   "cell_type": "code",
   "execution_count": 9,
   "metadata": {},
   "outputs": [
    {
     "name": "stdout",
     "output_type": "stream",
     "text": [
      "7\n",
      "7\n"
     ]
    }
   ],
   "source": [
    "def length1(string):\n",
    "    count = 0\n",
    "    for i in string:\n",
    "        count += 1\n",
    "    return count\n",
    "\n",
    "print(length1('Chinmay'))\n",
    "\n",
    "def length2(string):\n",
    "    return len(string)\n",
    "\n",
    "print(length2(\"Chinmay\"))"
   ]
  },
  {
   "cell_type": "markdown",
   "metadata": {},
   "source": [
    "### Check if all vowels in the string or not"
   ]
  },
  {
   "cell_type": "code",
   "execution_count": 11,
   "metadata": {},
   "outputs": [],
   "source": [
    "def checkVow(string):\n",
    "    vowels = set(\"aeiou\")\n",
    "    s=({})\n",
    "    \n",
    "    for char in string:\n",
    "        if char in vowels:\n",
    "            s.add(char)\n",
    "        else:\n",
    "            pass\n",
    "    if len(s) == len(vowels):\n",
    "        print(\"Accepted\")\n",
    "    else:\n",
    "        print(\"Meh\")"
   ]
  },
  {
   "cell_type": "code",
   "execution_count": 12,
   "metadata": {},
   "outputs": [
    {
     "ename": "AttributeError",
     "evalue": "'dict' object has no attribute 'add'",
     "output_type": "error",
     "traceback": [
      "\u001b[1;31m---------------------------------------------------------------------------\u001b[0m",
      "\u001b[1;31mAttributeError\u001b[0m                            Traceback (most recent call last)",
      "\u001b[1;32m<ipython-input-12-a1042cc392ce>\u001b[0m in \u001b[0;36m<module>\u001b[1;34m\u001b[0m\n\u001b[1;32m----> 1\u001b[1;33m \u001b[0mcheckVow\u001b[0m\u001b[1;33m(\u001b[0m\u001b[1;34m\"Seqoia\"\u001b[0m\u001b[1;33m)\u001b[0m\u001b[1;33m\u001b[0m\u001b[1;33m\u001b[0m\u001b[0m\n\u001b[0m",
      "\u001b[1;32m<ipython-input-11-62adaf5b4e4a>\u001b[0m in \u001b[0;36mcheckVow\u001b[1;34m(string)\u001b[0m\n\u001b[0;32m      5\u001b[0m     \u001b[1;32mfor\u001b[0m \u001b[0mchar\u001b[0m \u001b[1;32min\u001b[0m \u001b[0mstring\u001b[0m\u001b[1;33m:\u001b[0m\u001b[1;33m\u001b[0m\u001b[1;33m\u001b[0m\u001b[0m\n\u001b[0;32m      6\u001b[0m         \u001b[1;32mif\u001b[0m \u001b[0mchar\u001b[0m \u001b[1;32min\u001b[0m \u001b[0mvowels\u001b[0m\u001b[1;33m:\u001b[0m\u001b[1;33m\u001b[0m\u001b[1;33m\u001b[0m\u001b[0m\n\u001b[1;32m----> 7\u001b[1;33m             \u001b[0ms\u001b[0m\u001b[1;33m.\u001b[0m\u001b[0madd\u001b[0m\u001b[1;33m(\u001b[0m\u001b[0mchar\u001b[0m\u001b[1;33m)\u001b[0m\u001b[1;33m\u001b[0m\u001b[1;33m\u001b[0m\u001b[0m\n\u001b[0m\u001b[0;32m      8\u001b[0m         \u001b[1;32melse\u001b[0m\u001b[1;33m:\u001b[0m\u001b[1;33m\u001b[0m\u001b[1;33m\u001b[0m\u001b[0m\n\u001b[0;32m      9\u001b[0m             \u001b[1;32mpass\u001b[0m\u001b[1;33m\u001b[0m\u001b[1;33m\u001b[0m\u001b[0m\n",
      "\u001b[1;31mAttributeError\u001b[0m: 'dict' object has no attribute 'add'"
     ]
    }
   ],
   "source": [
    "checkVow(\"Seqoia\")"
   ]
  },
  {
   "cell_type": "markdown",
   "metadata": {},
   "source": [
    "### Remove all duplicates from a given string"
   ]
  },
  {
   "cell_type": "code",
   "execution_count": 5,
   "metadata": {},
   "outputs": [],
   "source": [
    "def duplis(string):\n",
    "    elements = {key: string.count(key) for key in string.split()}\n",
    "    \n",
    "    for i in elements:\n",
    "        if elements[i]>1:\n",
    "            string.replace(i, \"\",1)\n",
    "            \n",
    "    return string"
   ]
  },
  {
   "cell_type": "code",
   "execution_count": 6,
   "metadata": {},
   "outputs": [
    {
     "data": {
      "text/plain": [
       "'Mary had a little lamb and Mary is a friend and drinks bloody Mary'"
      ]
     },
     "execution_count": 6,
     "metadata": {},
     "output_type": "execute_result"
    }
   ],
   "source": [
    "duplis(\"Mary had a little lamb and Mary is a friend and drinks bloody Mary\")"
   ]
  },
  {
   "cell_type": "markdown",
   "metadata": {},
   "source": [
    "### Least frequent character in string"
   ]
  },
  {
   "cell_type": "code",
   "execution_count": 7,
   "metadata": {},
   "outputs": [],
   "source": [
    "# My solution\n",
    "def freq(string):\n",
    "    elements ={key: string.count(key) for key in string.split()}\n",
    "    for i in elements:\n",
    "        for j in elements[i]:\n",
    "            if j == min(elements[i]):\n",
    "                print(f'Least frequent character is: {i}')"
   ]
  },
  {
   "cell_type": "code",
   "execution_count": 16,
   "metadata": {},
   "outputs": [],
   "source": [
    "# Internet correct solution\n",
    "from collections import Counter\n",
    "def freqs(string):\n",
    "    result = Counter(string)\n",
    "    result = min(result, key = result.get)\n",
    "    return result"
   ]
  },
  {
   "cell_type": "code",
   "execution_count": 17,
   "metadata": {},
   "outputs": [
    {
     "data": {
      "text/plain": [
       "'r'"
      ]
     },
     "execution_count": 17,
     "metadata": {},
     "output_type": "execute_result"
    }
   ],
   "source": [
    "freqs('stringset')"
   ]
  },
  {
   "cell_type": "markdown",
   "metadata": {},
   "source": [
    "### Maximum frequnecy of character in a string"
   ]
  },
  {
   "cell_type": "code",
   "execution_count": 20,
   "metadata": {},
   "outputs": [
    {
     "data": {
      "text/plain": [
       "'t'"
      ]
     },
     "execution_count": 20,
     "metadata": {},
     "output_type": "execute_result"
    }
   ],
   "source": [
    "def max_freq(string):\n",
    "    res = Counter(string)\n",
    "    max_f = max(res, key=res.get)\n",
    "    return max_f\n",
    "\n",
    "max_freq(\"sttingiest\")"
   ]
  },
  {
   "cell_type": "code",
   "execution_count": null,
   "metadata": {},
   "outputs": [],
   "source": []
  },
  {
   "cell_type": "code",
   "execution_count": null,
   "metadata": {},
   "outputs": [],
   "source": []
  },
  {
   "cell_type": "code",
   "execution_count": null,
   "metadata": {},
   "outputs": [],
   "source": []
  },
  {
   "cell_type": "code",
   "execution_count": null,
   "metadata": {},
   "outputs": [],
   "source": []
  },
  {
   "cell_type": "code",
   "execution_count": null,
   "metadata": {},
   "outputs": [],
   "source": []
  },
  {
   "cell_type": "code",
   "execution_count": null,
   "metadata": {},
   "outputs": [],
   "source": []
  },
  {
   "cell_type": "code",
   "execution_count": 5,
   "metadata": {},
   "outputs": [
    {
     "name": "stdout",
     "output_type": "stream",
     "text": [
      "Counter({'s': 2, 't': 2, 'r': 1, 'i': 1, 'n': 1, 'g': 1, 'e': 1})\n",
      "<class 'collections.Counter'>\n",
      "[2, 2, 1, 1, 1, 1, 1]\n"
     ]
    }
   ],
   "source": [
    "from collections import Counter\n",
    "a = \"stringset\"\n",
    "b = Counter(a)\n",
    "print(b)\n",
    "print(type(b))\n",
    "\n",
    "c = list(x for x in b.values())\n",
    "print(c)"
   ]
  },
  {
   "cell_type": "code",
   "execution_count": 13,
   "metadata": {},
   "outputs": [
    {
     "name": "stdout",
     "output_type": "stream",
     "text": [
      "3\n",
      "<class 'int'>\n"
     ]
    }
   ],
   "source": [
    "num1 = [3,4,5]\n",
    "num = \n",
    "minimum = min(num)\n",
    "print(minimum)\n",
    "print(type(minimum))"
   ]
  },
  {
   "cell_type": "code",
   "execution_count": null,
   "metadata": {},
   "outputs": [],
   "source": []
  },
  {
   "cell_type": "code",
   "execution_count": null,
   "metadata": {},
   "outputs": [],
   "source": []
  },
  {
   "cell_type": "code",
   "execution_count": null,
   "metadata": {},
   "outputs": [],
   "source": []
  }
 ],
 "metadata": {
  "kernelspec": {
   "display_name": "Python 3",
   "language": "python",
   "name": "python3"
  },
  "language_info": {
   "codemirror_mode": {
    "name": "ipython",
    "version": 3
   },
   "file_extension": ".py",
   "mimetype": "text/x-python",
   "name": "python",
   "nbconvert_exporter": "python",
   "pygments_lexer": "ipython3",
   "version": "3.8.5"
  }
 },
 "nbformat": 4,
 "nbformat_minor": 4
}
